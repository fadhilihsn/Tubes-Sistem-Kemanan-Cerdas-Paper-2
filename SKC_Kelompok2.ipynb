{
  "nbformat": 4,
  "nbformat_minor": 0,
  "metadata": {
    "colab": {
      "name": "SKC_Kelompok2",
      "provenance": [],
      "collapsed_sections": []
    },
    "kernelspec": {
      "name": "python3",
      "display_name": "Python 3"
    }
  },
  "cells": [
    {
      "cell_type": "markdown",
      "metadata": {
        "id": "RoarZSvOOPKt"
      },
      "source": [
        "# **Import Library**"
      ]
    },
    {
      "cell_type": "code",
      "metadata": {
        "id": "WjKXapajDPAo"
      },
      "source": [
        "import os \r\n",
        "import pandas as pd \r\n",
        "import numpy as np \r\n",
        "import matplotlib.pyplot as plt \r\n",
        "import seaborn as sns \r\n",
        "import time "
      ],
      "execution_count": null,
      "outputs": []
    },
    {
      "cell_type": "markdown",
      "metadata": {
        "id": "PIn7p0zgH9lQ"
      },
      "source": [
        "# **Membaca list fitur**"
      ]
    },
    {
      "cell_type": "code",
      "metadata": {
        "id": "v4CMteimE4QJ",
        "colab": {
          "base_uri": "https://localhost:8080/"
        },
        "outputId": "5fbebb1e-6c29-4320-a192-624bdb511109"
      },
      "source": [
        "with open(\"kddcup.names\", 'r') as f: \r\n",
        "    print(f.read()) "
      ],
      "execution_count": null,
      "outputs": [
        {
          "output_type": "stream",
          "text": [
            "back,buffer_overflow,ftp_write,guess_passwd,imap,ipsweep,land,loadmodule,multihop,neptune,nmap,normal,perl,phf,pod,portsweep,rootkit,satan,smurf,spy,teardrop,warezclient,warezmaster.\n",
            "duration: continuous.\n",
            "protocol_type: symbolic.\n",
            "service: symbolic.\n",
            "flag: symbolic.\n",
            "src_bytes: continuous.\n",
            "dst_bytes: continuous.\n",
            "land: symbolic.\n",
            "wrong_fragment: continuous.\n",
            "urgent: continuous.\n",
            "hot: continuous.\n",
            "num_failed_logins: continuous.\n",
            "logged_in: symbolic.\n",
            "num_compromised: continuous.\n",
            "root_shell: continuous.\n",
            "su_attempted: continuous.\n",
            "num_root: continuous.\n",
            "num_file_creations: continuous.\n",
            "num_shells: continuous.\n",
            "num_access_files: continuous.\n",
            "num_outbound_cmds: continuous.\n",
            "is_host_login: symbolic.\n",
            "is_guest_login: symbolic.\n",
            "count: continuous.\n",
            "srv_count: continuous.\n",
            "serror_rate: continuous.\n",
            "srv_serror_rate: continuous.\n",
            "rerror_rate: continuous.\n",
            "srv_rerror_rate: continuous.\n",
            "same_srv_rate: continuous.\n",
            "diff_srv_rate: continuous.\n",
            "srv_diff_host_rate: continuous.\n",
            "dst_host_count: continuous.\n",
            "dst_host_srv_count: continuous.\n",
            "dst_host_same_srv_rate: continuous.\n",
            "dst_host_diff_srv_rate: continuous.\n",
            "dst_host_same_src_port_rate: continuous.\n",
            "dst_host_srv_diff_host_rate: continuous.\n",
            "dst_host_serror_rate: continuous.\n",
            "dst_host_srv_serror_rate: continuous.\n",
            "dst_host_rerror_rate: continuous.\n",
            "dst_host_srv_rerror_rate: continuous.\n"
          ],
          "name": "stdout"
        }
      ]
    },
    {
      "cell_type": "code",
      "metadata": {
        "id": "DKIrVWIVGVwZ",
        "colab": {
          "base_uri": "https://localhost:8080/"
        },
        "outputId": "464b9be6-ff9d-42ae-d25c-5ad60216071c"
      },
      "source": [
        " \r\n",
        "cols =\"\"\"duration, \r\n",
        "protocol_type, \r\n",
        "service, \r\n",
        "flag, \r\n",
        "src_bytes, \r\n",
        "dst_bytes, \r\n",
        "land, \r\n",
        "wrong_fragment, \r\n",
        "urgent, \r\n",
        "hot, \r\n",
        "num_failed_logins, \r\n",
        "logged_in, \r\n",
        "num_compromised, \r\n",
        "root_shell, \r\n",
        "su_attempted, \r\n",
        "num_root, \r\n",
        "num_file_creations, \r\n",
        "num_shells, \r\n",
        "num_access_files, \r\n",
        "num_outbound_cmds, \r\n",
        "is_host_login, \r\n",
        "is_guest_login, \r\n",
        "count, \r\n",
        "srv_count, \r\n",
        "serror_rate, \r\n",
        "srv_serror_rate, \r\n",
        "rerror_rate, \r\n",
        "srv_rerror_rate, \r\n",
        "same_srv_rate, \r\n",
        "diff_srv_rate, \r\n",
        "srv_diff_host_rate, \r\n",
        "dst_host_count, \r\n",
        "dst_host_srv_count, \r\n",
        "dst_host_same_srv_rate, \r\n",
        "dst_host_diff_srv_rate, \r\n",
        "dst_host_same_src_port_rate, \r\n",
        "dst_host_srv_diff_host_rate, \r\n",
        "dst_host_serror_rate, \r\n",
        "dst_host_srv_serror_rate, \r\n",
        "dst_host_rerror_rate, \r\n",
        "dst_host_srv_rerror_rate\"\"\"\r\n",
        "\r\n",
        "columns =[] \r\n",
        "for c in cols.split(', '): \r\n",
        "\tif(c.strip()): \r\n",
        "\t  columns.append(c.strip()) \r\n",
        "\r\n",
        "columns.append('target') \r\n",
        "print(len(columns)) "
      ],
      "execution_count": null,
      "outputs": [
        {
          "output_type": "stream",
          "text": [
            "42\n"
          ],
          "name": "stdout"
        }
      ]
    },
    {
      "cell_type": "code",
      "metadata": {
        "id": "7bKpqyIRG6Zb",
        "colab": {
          "base_uri": "https://localhost:8080/"
        },
        "outputId": "388ca0b5-267a-4ad3-91e2-06959c5b1f51"
      },
      "source": [
        " with open(\"training_attack_types\", 'r') as f: \r\n",
        "\tprint(f.read()) \r\n"
      ],
      "execution_count": null,
      "outputs": [
        {
          "output_type": "stream",
          "text": [
            "back dos\n",
            "buffer_overflow u2r\n",
            "ftp_write r2l\n",
            "guess_passwd r2l\n",
            "imap r2l\n",
            "ipsweep probe\n",
            "land dos\n",
            "loadmodule u2r\n",
            "multihop r2l\n",
            "neptune dos\n",
            "nmap probe\n",
            "perl u2r\n",
            "phf r2l\n",
            "pod dos\n",
            "portsweep probe\n",
            "rootkit u2r\n",
            "satan probe\n",
            "smurf dos\n",
            "spy r2l\n",
            "teardrop dos\n",
            "warezclient r2l\n",
            "warezmaster r2l\n",
            "\n"
          ],
          "name": "stdout"
        }
      ]
    },
    {
      "cell_type": "code",
      "metadata": {
        "id": "10t9X0XEG9Ag"
      },
      "source": [
        " \r\n",
        "attacks_types = { \r\n",
        "\t'normal': 'normal', \r\n",
        "'back': 'dos', \r\n",
        "'buffer_overflow': 'u2r', \r\n",
        "'ftp_write': 'r2l', \r\n",
        "'guess_passwd': 'r2l', \r\n",
        "'imap': 'r2l', \r\n",
        "'ipsweep': 'probe', \r\n",
        "'land': 'dos', \r\n",
        "'loadmodule': 'u2r', \r\n",
        "'multihop': 'r2l', \r\n",
        "'neptune': 'dos', \r\n",
        "'nmap': 'probe', \r\n",
        "'perl': 'u2r', \r\n",
        "'phf': 'r2l', \r\n",
        "'pod': 'dos', \r\n",
        "'portsweep': 'probe', \r\n",
        "'rootkit': 'u2r', \r\n",
        "'satan': 'probe', \r\n",
        "'smurf': 'dos', \r\n",
        "'spy': 'r2l', \r\n",
        "'teardrop': 'dos', \r\n",
        "'warezclient': 'r2l', \r\n",
        "'warezmaster': 'r2l', \r\n",
        "} \r\n"
      ],
      "execution_count": null,
      "outputs": []
    },
    {
      "cell_type": "markdown",
      "metadata": {
        "id": "iQUONlqjnNYe"
      },
      "source": [
        "# **Dataset KDD**"
      ]
    },
    {
      "cell_type": "code",
      "metadata": {
        "id": "sfRcW_DBHn1Y",
        "colab": {
          "base_uri": "https://localhost:8080/",
          "height": 241
        },
        "outputId": "64423f52-d956-4059-ba43-8058732a8939"
      },
      "source": [
        "path = \"kddcup.data_10_percent.gz\"\r\n",
        "df = pd.read_csv(path, names = columns) \r\n",
        "\r\n",
        "# Adding Attack Type column \r\n",
        "df['Attack Type'] = df.target.apply(lambda r:attacks_types[r[:-1]]) \r\n",
        "df.head() \r\n",
        "\r\n"
      ],
      "execution_count": null,
      "outputs": [
        {
          "output_type": "execute_result",
          "data": {
            "text/html": [
              "<div>\n",
              "<style scoped>\n",
              "    .dataframe tbody tr th:only-of-type {\n",
              "        vertical-align: middle;\n",
              "    }\n",
              "\n",
              "    .dataframe tbody tr th {\n",
              "        vertical-align: top;\n",
              "    }\n",
              "\n",
              "    .dataframe thead th {\n",
              "        text-align: right;\n",
              "    }\n",
              "</style>\n",
              "<table border=\"1\" class=\"dataframe\">\n",
              "  <thead>\n",
              "    <tr style=\"text-align: right;\">\n",
              "      <th></th>\n",
              "      <th>duration</th>\n",
              "      <th>protocol_type</th>\n",
              "      <th>service</th>\n",
              "      <th>flag</th>\n",
              "      <th>src_bytes</th>\n",
              "      <th>dst_bytes</th>\n",
              "      <th>land</th>\n",
              "      <th>wrong_fragment</th>\n",
              "      <th>urgent</th>\n",
              "      <th>hot</th>\n",
              "      <th>num_failed_logins</th>\n",
              "      <th>logged_in</th>\n",
              "      <th>num_compromised</th>\n",
              "      <th>root_shell</th>\n",
              "      <th>su_attempted</th>\n",
              "      <th>num_root</th>\n",
              "      <th>num_file_creations</th>\n",
              "      <th>num_shells</th>\n",
              "      <th>num_access_files</th>\n",
              "      <th>num_outbound_cmds</th>\n",
              "      <th>is_host_login</th>\n",
              "      <th>is_guest_login</th>\n",
              "      <th>count</th>\n",
              "      <th>srv_count</th>\n",
              "      <th>serror_rate</th>\n",
              "      <th>srv_serror_rate</th>\n",
              "      <th>rerror_rate</th>\n",
              "      <th>srv_rerror_rate</th>\n",
              "      <th>same_srv_rate</th>\n",
              "      <th>diff_srv_rate</th>\n",
              "      <th>srv_diff_host_rate</th>\n",
              "      <th>dst_host_count</th>\n",
              "      <th>dst_host_srv_count</th>\n",
              "      <th>dst_host_same_srv_rate</th>\n",
              "      <th>dst_host_diff_srv_rate</th>\n",
              "      <th>dst_host_same_src_port_rate</th>\n",
              "      <th>dst_host_srv_diff_host_rate</th>\n",
              "      <th>dst_host_serror_rate</th>\n",
              "      <th>dst_host_srv_serror_rate</th>\n",
              "      <th>dst_host_rerror_rate</th>\n",
              "      <th>dst_host_srv_rerror_rate</th>\n",
              "      <th>target</th>\n",
              "      <th>Attack Type</th>\n",
              "    </tr>\n",
              "  </thead>\n",
              "  <tbody>\n",
              "    <tr>\n",
              "      <th>0</th>\n",
              "      <td>0</td>\n",
              "      <td>tcp</td>\n",
              "      <td>http</td>\n",
              "      <td>SF</td>\n",
              "      <td>181</td>\n",
              "      <td>5450</td>\n",
              "      <td>0</td>\n",
              "      <td>0</td>\n",
              "      <td>0</td>\n",
              "      <td>0</td>\n",
              "      <td>0</td>\n",
              "      <td>1</td>\n",
              "      <td>0</td>\n",
              "      <td>0</td>\n",
              "      <td>0</td>\n",
              "      <td>0</td>\n",
              "      <td>0</td>\n",
              "      <td>0</td>\n",
              "      <td>0</td>\n",
              "      <td>0</td>\n",
              "      <td>0</td>\n",
              "      <td>0</td>\n",
              "      <td>8</td>\n",
              "      <td>8</td>\n",
              "      <td>0.0</td>\n",
              "      <td>0.0</td>\n",
              "      <td>0.0</td>\n",
              "      <td>0.0</td>\n",
              "      <td>1.0</td>\n",
              "      <td>0.0</td>\n",
              "      <td>0.0</td>\n",
              "      <td>9</td>\n",
              "      <td>9</td>\n",
              "      <td>1.0</td>\n",
              "      <td>0.0</td>\n",
              "      <td>0.11</td>\n",
              "      <td>0.0</td>\n",
              "      <td>0.0</td>\n",
              "      <td>0.0</td>\n",
              "      <td>0.0</td>\n",
              "      <td>0.0</td>\n",
              "      <td>normal.</td>\n",
              "      <td>normal</td>\n",
              "    </tr>\n",
              "    <tr>\n",
              "      <th>1</th>\n",
              "      <td>0</td>\n",
              "      <td>tcp</td>\n",
              "      <td>http</td>\n",
              "      <td>SF</td>\n",
              "      <td>239</td>\n",
              "      <td>486</td>\n",
              "      <td>0</td>\n",
              "      <td>0</td>\n",
              "      <td>0</td>\n",
              "      <td>0</td>\n",
              "      <td>0</td>\n",
              "      <td>1</td>\n",
              "      <td>0</td>\n",
              "      <td>0</td>\n",
              "      <td>0</td>\n",
              "      <td>0</td>\n",
              "      <td>0</td>\n",
              "      <td>0</td>\n",
              "      <td>0</td>\n",
              "      <td>0</td>\n",
              "      <td>0</td>\n",
              "      <td>0</td>\n",
              "      <td>8</td>\n",
              "      <td>8</td>\n",
              "      <td>0.0</td>\n",
              "      <td>0.0</td>\n",
              "      <td>0.0</td>\n",
              "      <td>0.0</td>\n",
              "      <td>1.0</td>\n",
              "      <td>0.0</td>\n",
              "      <td>0.0</td>\n",
              "      <td>19</td>\n",
              "      <td>19</td>\n",
              "      <td>1.0</td>\n",
              "      <td>0.0</td>\n",
              "      <td>0.05</td>\n",
              "      <td>0.0</td>\n",
              "      <td>0.0</td>\n",
              "      <td>0.0</td>\n",
              "      <td>0.0</td>\n",
              "      <td>0.0</td>\n",
              "      <td>normal.</td>\n",
              "      <td>normal</td>\n",
              "    </tr>\n",
              "    <tr>\n",
              "      <th>2</th>\n",
              "      <td>0</td>\n",
              "      <td>tcp</td>\n",
              "      <td>http</td>\n",
              "      <td>SF</td>\n",
              "      <td>235</td>\n",
              "      <td>1337</td>\n",
              "      <td>0</td>\n",
              "      <td>0</td>\n",
              "      <td>0</td>\n",
              "      <td>0</td>\n",
              "      <td>0</td>\n",
              "      <td>1</td>\n",
              "      <td>0</td>\n",
              "      <td>0</td>\n",
              "      <td>0</td>\n",
              "      <td>0</td>\n",
              "      <td>0</td>\n",
              "      <td>0</td>\n",
              "      <td>0</td>\n",
              "      <td>0</td>\n",
              "      <td>0</td>\n",
              "      <td>0</td>\n",
              "      <td>8</td>\n",
              "      <td>8</td>\n",
              "      <td>0.0</td>\n",
              "      <td>0.0</td>\n",
              "      <td>0.0</td>\n",
              "      <td>0.0</td>\n",
              "      <td>1.0</td>\n",
              "      <td>0.0</td>\n",
              "      <td>0.0</td>\n",
              "      <td>29</td>\n",
              "      <td>29</td>\n",
              "      <td>1.0</td>\n",
              "      <td>0.0</td>\n",
              "      <td>0.03</td>\n",
              "      <td>0.0</td>\n",
              "      <td>0.0</td>\n",
              "      <td>0.0</td>\n",
              "      <td>0.0</td>\n",
              "      <td>0.0</td>\n",
              "      <td>normal.</td>\n",
              "      <td>normal</td>\n",
              "    </tr>\n",
              "    <tr>\n",
              "      <th>3</th>\n",
              "      <td>0</td>\n",
              "      <td>tcp</td>\n",
              "      <td>http</td>\n",
              "      <td>SF</td>\n",
              "      <td>219</td>\n",
              "      <td>1337</td>\n",
              "      <td>0</td>\n",
              "      <td>0</td>\n",
              "      <td>0</td>\n",
              "      <td>0</td>\n",
              "      <td>0</td>\n",
              "      <td>1</td>\n",
              "      <td>0</td>\n",
              "      <td>0</td>\n",
              "      <td>0</td>\n",
              "      <td>0</td>\n",
              "      <td>0</td>\n",
              "      <td>0</td>\n",
              "      <td>0</td>\n",
              "      <td>0</td>\n",
              "      <td>0</td>\n",
              "      <td>0</td>\n",
              "      <td>6</td>\n",
              "      <td>6</td>\n",
              "      <td>0.0</td>\n",
              "      <td>0.0</td>\n",
              "      <td>0.0</td>\n",
              "      <td>0.0</td>\n",
              "      <td>1.0</td>\n",
              "      <td>0.0</td>\n",
              "      <td>0.0</td>\n",
              "      <td>39</td>\n",
              "      <td>39</td>\n",
              "      <td>1.0</td>\n",
              "      <td>0.0</td>\n",
              "      <td>0.03</td>\n",
              "      <td>0.0</td>\n",
              "      <td>0.0</td>\n",
              "      <td>0.0</td>\n",
              "      <td>0.0</td>\n",
              "      <td>0.0</td>\n",
              "      <td>normal.</td>\n",
              "      <td>normal</td>\n",
              "    </tr>\n",
              "    <tr>\n",
              "      <th>4</th>\n",
              "      <td>0</td>\n",
              "      <td>tcp</td>\n",
              "      <td>http</td>\n",
              "      <td>SF</td>\n",
              "      <td>217</td>\n",
              "      <td>2032</td>\n",
              "      <td>0</td>\n",
              "      <td>0</td>\n",
              "      <td>0</td>\n",
              "      <td>0</td>\n",
              "      <td>0</td>\n",
              "      <td>1</td>\n",
              "      <td>0</td>\n",
              "      <td>0</td>\n",
              "      <td>0</td>\n",
              "      <td>0</td>\n",
              "      <td>0</td>\n",
              "      <td>0</td>\n",
              "      <td>0</td>\n",
              "      <td>0</td>\n",
              "      <td>0</td>\n",
              "      <td>0</td>\n",
              "      <td>6</td>\n",
              "      <td>6</td>\n",
              "      <td>0.0</td>\n",
              "      <td>0.0</td>\n",
              "      <td>0.0</td>\n",
              "      <td>0.0</td>\n",
              "      <td>1.0</td>\n",
              "      <td>0.0</td>\n",
              "      <td>0.0</td>\n",
              "      <td>49</td>\n",
              "      <td>49</td>\n",
              "      <td>1.0</td>\n",
              "      <td>0.0</td>\n",
              "      <td>0.02</td>\n",
              "      <td>0.0</td>\n",
              "      <td>0.0</td>\n",
              "      <td>0.0</td>\n",
              "      <td>0.0</td>\n",
              "      <td>0.0</td>\n",
              "      <td>normal.</td>\n",
              "      <td>normal</td>\n",
              "    </tr>\n",
              "  </tbody>\n",
              "</table>\n",
              "</div>"
            ],
            "text/plain": [
              "   duration protocol_type  ...   target Attack Type\n",
              "0         0           tcp  ...  normal.      normal\n",
              "1         0           tcp  ...  normal.      normal\n",
              "2         0           tcp  ...  normal.      normal\n",
              "3         0           tcp  ...  normal.      normal\n",
              "4         0           tcp  ...  normal.      normal\n",
              "\n",
              "[5 rows x 43 columns]"
            ]
          },
          "metadata": {
            "tags": []
          },
          "execution_count": 45
        }
      ]
    },
    {
      "cell_type": "code",
      "metadata": {
        "id": "Yt1NP00DHsS6",
        "colab": {
          "base_uri": "https://localhost:8080/"
        },
        "outputId": "8342e23e-11ee-4efe-8445-55df74370d2c"
      },
      "source": [
        "df.shape "
      ],
      "execution_count": null,
      "outputs": [
        {
          "output_type": "execute_result",
          "data": {
            "text/plain": [
              "(494021, 43)"
            ]
          },
          "metadata": {
            "tags": []
          },
          "execution_count": 46
        }
      ]
    },
    {
      "cell_type": "code",
      "metadata": {
        "id": "Ff1VICu7HyHC",
        "colab": {
          "base_uri": "https://localhost:8080/"
        },
        "outputId": "b292a997-7a00-434a-95cd-a1e00195df75"
      },
      "source": [
        "df.isnull().sum()"
      ],
      "execution_count": null,
      "outputs": [
        {
          "output_type": "execute_result",
          "data": {
            "text/plain": [
              "duration                       0\n",
              "protocol_type                  0\n",
              "service                        0\n",
              "flag                           0\n",
              "src_bytes                      0\n",
              "dst_bytes                      0\n",
              "land                           0\n",
              "wrong_fragment                 0\n",
              "urgent                         0\n",
              "hot                            0\n",
              "num_failed_logins              0\n",
              "logged_in                      0\n",
              "num_compromised                0\n",
              "root_shell                     0\n",
              "su_attempted                   0\n",
              "num_root                       0\n",
              "num_file_creations             0\n",
              "num_shells                     0\n",
              "num_access_files               0\n",
              "num_outbound_cmds              0\n",
              "is_host_login                  0\n",
              "is_guest_login                 0\n",
              "count                          0\n",
              "srv_count                      0\n",
              "serror_rate                    0\n",
              "srv_serror_rate                0\n",
              "rerror_rate                    0\n",
              "srv_rerror_rate                0\n",
              "same_srv_rate                  0\n",
              "diff_srv_rate                  0\n",
              "srv_diff_host_rate             0\n",
              "dst_host_count                 0\n",
              "dst_host_srv_count             0\n",
              "dst_host_same_srv_rate         0\n",
              "dst_host_diff_srv_rate         0\n",
              "dst_host_same_src_port_rate    0\n",
              "dst_host_srv_diff_host_rate    0\n",
              "dst_host_serror_rate           0\n",
              "dst_host_srv_serror_rate       0\n",
              "dst_host_rerror_rate           0\n",
              "dst_host_srv_rerror_rate       0\n",
              "target                         0\n",
              "Attack Type                    0\n",
              "dtype: int64"
            ]
          },
          "metadata": {
            "tags": []
          },
          "execution_count": 47
        }
      ]
    },
    {
      "cell_type": "code",
      "metadata": {
        "colab": {
          "base_uri": "https://localhost:8080/"
        },
        "id": "KKsmQPmAKgff",
        "outputId": "cad9e5d9-d709-4c08-cd02-0e2774cf3d14"
      },
      "source": [
        "# Finding categorical features \r\n",
        "num_cols = df._get_numeric_data().columns \r\n",
        "\r\n",
        "cate_cols = list(set(df.columns)-set(num_cols)) \r\n",
        "cate_cols.remove('target') \r\n",
        "cate_cols.remove('Attack Type') \r\n",
        "\r\n",
        "cate_cols \r\n",
        "\r\n"
      ],
      "execution_count": null,
      "outputs": [
        {
          "output_type": "execute_result",
          "data": {
            "text/plain": [
              "['protocol_type', 'flag', 'service']"
            ]
          },
          "metadata": {
            "tags": []
          },
          "execution_count": 48
        }
      ]
    },
    {
      "cell_type": "code",
      "metadata": {
        "colab": {
          "base_uri": "https://localhost:8080/",
          "height": 838
        },
        "id": "ulwSpMZFLBPc",
        "outputId": "87c3ddc5-520c-41c9-8a8f-592bdf906035"
      },
      "source": [
        " \r\n",
        "\r\n",
        "df = df.dropna('columns')# drop columns with NaN \r\n",
        "\r\n",
        "df = df[[col for col in df if df[col].nunique() > 1]]# keep columns where there are more than 1 unique values \r\n",
        "\r\n",
        "corr = df.corr() \r\n",
        "\r\n",
        "plt.figure(figsize =(15, 12)) \r\n",
        "\r\n",
        "sns.heatmap(corr) \r\n",
        "\r\n",
        "plt.show() \r\n",
        "\r\n"
      ],
      "execution_count": null,
      "outputs": [
        {
          "output_type": "display_data",
          "data": {
            "image/png": "[encoded data removed]",
            "text/plain": [
              "<Figure size 1080x864 with 2 Axes>"
            ]
          },
          "metadata": {
            "tags": [],
            "needs_background": "light"
          }
        }
      ]
    },
    {
      "cell_type": "code",
      "metadata": {
        "id": "zlVmjTd-LMTW"
      },
      "source": [
        " \r\n",
        "\r\n",
        "# This variable is highly correlated with num_compromised and should be ignored for analysis. \r\n",
        "#(Correlation = 0.9938277978738366) \r\n",
        "df.drop('num_root', axis = 1, inplace = True) \r\n",
        "\r\n",
        "# This variable is highly correlated with serror_rate and should be ignored for analysis. \r\n",
        "#(Correlation = 0.9983615072725952) \r\n",
        "df.drop('srv_serror_rate', axis = 1, inplace = True) \r\n",
        "\r\n",
        "# This variable is highly correlated with rerror_rate and should be ignored for analysis. \r\n",
        "#(Correlation = 0.9947309539817937) \r\n",
        "df.drop('srv_rerror_rate', axis = 1, inplace = True) \r\n",
        "\r\n",
        "# This variable is highly correlated with srv_serror_rate and should be ignored for analysis. \r\n",
        "#(Correlation = 0.9993041091850098) \r\n",
        "df.drop('dst_host_srv_serror_rate', axis = 1, inplace = True) \r\n",
        "\r\n",
        "# This variable is highly correlated with rerror_rate and should be ignored for analysis. \r\n",
        "#(Correlation = 0.9869947924956001) \r\n",
        "df.drop('dst_host_serror_rate', axis = 1, inplace = True) \r\n",
        "\r\n",
        "# This variable is highly correlated with srv_rerror_rate and should be ignored for analysis. \r\n",
        "#(Correlation = 0.9821663427308375) \r\n",
        "df.drop('dst_host_rerror_rate', axis = 1, inplace = True) \r\n",
        "\r\n",
        "# This variable is highly correlated with rerror_rate and should be ignored for analysis. \r\n",
        "#(Correlation = 0.9851995540751249) \r\n",
        "df.drop('dst_host_srv_rerror_rate', axis = 1, inplace = True) \r\n",
        "\r\n",
        "# This variable is highly correlated with srv_rerror_rate and should be ignored for analysis. \r\n",
        "#(Correlation = 0.9865705438845669) \r\n",
        "df.drop('dst_host_same_srv_rate', axis = 1, inplace = True) \r\n",
        "\r\n"
      ],
      "execution_count": null,
      "outputs": []
    },
    {
      "cell_type": "code",
      "metadata": {
        "id": "VZ0M3d2jLQf7"
      },
      "source": [
        " \r\n",
        "# protocol_type feature mapping \r\n",
        "pmap = {'icmp':0, 'tcp':1, 'udp':2} \r\n",
        "df['protocol_type'] = df['protocol_type'].map(pmap) \r\n"
      ],
      "execution_count": null,
      "outputs": []
    },
    {
      "cell_type": "code",
      "metadata": {
        "id": "xKGiilCtLWo1"
      },
      "source": [
        " \r\n",
        "# flag feature mapping \r\n",
        "fmap = {'SF':0, 'S0':1, 'REJ':2, 'RSTR':3, 'RSTO':4, 'SH':5, 'S1':6, 'S2':7, 'RSTOS0':8, 'S3':9, 'OTH':10} \r\n",
        "df['flag'] = df['flag'].map(fmap) \r\n",
        "\r\n"
      ],
      "execution_count": null,
      "outputs": []
    },
    {
      "cell_type": "code",
      "metadata": {
        "id": "SsaAX1X9LYFd"
      },
      "source": [
        " \r\n",
        "df.drop('service', axis = 1, inplace = True) \r\n"
      ],
      "execution_count": null,
      "outputs": []
    },
    {
      "cell_type": "markdown",
      "metadata": {
        "id": "HcgQRWpyZjPY"
      },
      "source": [
        "# **Spliiting Train dan Test Data** "
      ]
    },
    {
      "cell_type": "code",
      "metadata": {
        "id": "rEX2c61xLZsp"
      },
      "source": [
        " \r\n",
        "from sklearn.model_selection import train_test_split \r\n",
        "from sklearn.preprocessing import MinMaxScaler \r\n",
        "\r\n"
      ],
      "execution_count": null,
      "outputs": []
    },
    {
      "cell_type": "code",
      "metadata": {
        "id": "nM0IaICOLbSp",
        "colab": {
          "base_uri": "https://localhost:8080/"
        },
        "outputId": "550b7d95-b06f-4a2d-ba09-df3a98fbac47"
      },
      "source": [
        " \r\n",
        "# Splitting the dataset \r\n",
        "df = df.drop(['target', ], axis = 1) \r\n",
        "print(df.shape) \r\n",
        "\r\n",
        "# Target variable and train set \r\n",
        "y = df[['Attack Type']] \r\n",
        "X = df.drop(['Attack Type', ], axis = 1) \r\n",
        "\r\n",
        "sc = MinMaxScaler() \r\n",
        "X = sc.fit_transform(X) \r\n",
        "\r\n",
        "# Split test and train data \r\n",
        "X_train, X_test, y_train, y_test = train_test_split(X, y, test_size = 0.33, random_state = 42) \r\n",
        "print(X_train.shape, X_test.shape) \r\n",
        "print(y_train.shape, y_test.shape) \r\n",
        "\r\n"
      ],
      "execution_count": null,
      "outputs": [
        {
          "output_type": "stream",
          "text": [
            "(494021, 31)\n",
            "(330994, 30) (163027, 30)\n",
            "(330994, 1) (163027, 1)\n"
          ],
          "name": "stdout"
        }
      ]
    },
    {
      "cell_type": "markdown",
      "metadata": {
        "id": "EJIpp0LGMBgE"
      },
      "source": [
        "# **Random Forest**"
      ]
    },
    {
      "cell_type": "code",
      "metadata": {
        "id": "SOkyd5ZEMJs4",
        "colab": {
          "base_uri": "https://localhost:8080/"
        },
        "outputId": "41369020-3327-4249-da0a-edd547c74448"
      },
      "source": [
        "from sklearn.ensemble import RandomForestClassifier \r\n",
        "  \r\n",
        "clfr = RandomForestClassifier(n_estimators = 30) \r\n",
        "start_time = time.time() \r\n",
        "clfr.fit(X_train, y_train.values.ravel()) \r\n",
        "end_time = time.time() \r\n",
        "print(\"Training time: \", end_time-start_time)"
      ],
      "execution_count": null,
      "outputs": [
        {
          "output_type": "stream",
          "text": [
            "Training time:  9.466190576553345\n"
          ],
          "name": "stdout"
        }
      ]
    },
    {
      "cell_type": "code",
      "metadata": {
        "id": "gLmM9jCAMROY",
        "colab": {
          "base_uri": "https://localhost:8080/"
        },
        "outputId": "600862e1-c8c9-498d-fa77-2f5972418bf7"
      },
      "source": [
        "start_time = time.time() \r\n",
        "y_test_pred = clfr.predict(X_train) \r\n",
        "end_time = time.time() \r\n",
        "print(\"Testing time: \", end_time-start_time) \r\n",
        "\r\n"
      ],
      "execution_count": null,
      "outputs": [
        {
          "output_type": "stream",
          "text": [
            "Testing time:  1.0527193546295166\n"
          ],
          "name": "stdout"
        }
      ]
    },
    {
      "cell_type": "code",
      "metadata": {
        "id": "HHB_Um7zMUxA",
        "colab": {
          "base_uri": "https://localhost:8080/"
        },
        "outputId": "a2f189d7-b8bf-4d67-e862-9979a67269d1"
      },
      "source": [
        "print(\"Train score is:\", clfr.score(X_train, y_train)) \r\n",
        "print(\"Test score is:\", clfr.score(X_test, y_test)) "
      ],
      "execution_count": null,
      "outputs": [
        {
          "output_type": "stream",
          "text": [
            "Train score is: 0.9999667667691862\n",
            "Test score is: 0.9996442307102504\n"
          ],
          "name": "stdout"
        }
      ]
    },
    {
      "cell_type": "markdown",
      "metadata": {
        "id": "usfk9ZNdNfzl"
      },
      "source": [
        "# **Decision Tree** "
      ]
    },
    {
      "cell_type": "code",
      "metadata": {
        "colab": {
          "base_uri": "https://localhost:8080/"
        },
        "id": "8S-0cou0M5o1",
        "outputId": "e5dd1f89-b995-4e1e-c0b5-edffa99dae5e"
      },
      "source": [
        "# Decision Tree  \r\n",
        "from sklearn.tree import DecisionTreeClassifier \r\n",
        "  \r\n",
        "clfd = DecisionTreeClassifier(criterion =\"entropy\", max_depth = 4) \r\n",
        "start_time = time.time() \r\n",
        "clfd.fit(X_train, y_train.values.ravel()) \r\n",
        "end_time = time.time() \r\n",
        "print(\"Training time: \", end_time-start_time) \r\n",
        " "
      ],
      "execution_count": null,
      "outputs": [
        {
          "output_type": "stream",
          "text": [
            "Training time:  1.268632173538208\n"
          ],
          "name": "stdout"
        }
      ]
    },
    {
      "cell_type": "markdown",
      "metadata": {
        "id": "Iq_YHeMgN3ql"
      },
      "source": [
        ""
      ]
    },
    {
      "cell_type": "code",
      "metadata": {
        "id": "VrRz35q0NOyd",
        "colab": {
          "base_uri": "https://localhost:8080/"
        },
        "outputId": "e82cb8e4-3cdf-495a-efd2-94722dda8cc8"
      },
      "source": [
        " \r\n",
        "start_time = time.time() \r\n",
        "y_test_pred = clfd.predict(X_train) \r\n",
        "end_time = time.time() \r\n",
        "print(\"Testing time: \", end_time-start_time) \r\n",
        "\r\n"
      ],
      "execution_count": null,
      "outputs": [
        {
          "output_type": "stream",
          "text": [
            "Testing time:  0.04451346397399902\n"
          ],
          "name": "stdout"
        }
      ]
    },
    {
      "cell_type": "code",
      "metadata": {
        "id": "fxZ43HtKNRUX",
        "colab": {
          "base_uri": "https://localhost:8080/"
        },
        "outputId": "968c6818-e26f-4915-c019-13a4da25694d"
      },
      "source": [
        " \r\n",
        "print(\"Train score is:\", clfd.score(X_train, y_train)) \r\n",
        "print(\"Test score is:\", clfd.score(X_test, y_test)) \r\n",
        "\r\n"
      ],
      "execution_count": null,
      "outputs": [
        {
          "output_type": "stream",
          "text": [
            "Train score is: 0.9905829108684749\n",
            "Test score is: 0.9905230421954646\n"
          ],
          "name": "stdout"
        }
      ]
    },
    {
      "cell_type": "markdown",
      "metadata": {
        "id": "8GwGGpHghiaL"
      },
      "source": [
        "# **BAR PLOT Akurasi Training Decision Tree & Random Forest**"
      ]
    },
    {
      "cell_type": "code",
      "metadata": {
        "id": "nI9Ev8cPNS22",
        "colab": {
          "base_uri": "https://localhost:8080/",
          "height": 228
        },
        "outputId": "81fd6e80-3c94-4340-a957-602ff218daeb"
      },
      "source": [
        "names = ['DT', 'RF'] \r\n",
        "values = [ 0.9905829108684749, 0.9999667667691862] \r\n",
        "f = plt.figure(figsize =(15, 3), num = 10) \r\n",
        "plt.subplot(131) \r\n",
        "plt.bar(names, values) "
      ],
      "execution_count": null,
      "outputs": [
        {
          "output_type": "execute_result",
          "data": {
            "text/plain": [
              "<BarContainer object of 2 artists>"
            ]
          },
          "metadata": {
            "tags": []
          },
          "execution_count": 71
        },
        {
          "output_type": "display_data",
          "data": {
            "image/png": "[encoded data removed]",
            "text/plain": [
              "<Figure size 1080x216 with 1 Axes>"
            ]
          },
          "metadata": {
            "tags": [],
            "needs_background": "light"
          }
        }
      ]
    },
    {
      "cell_type": "markdown",
      "metadata": {
        "id": "RCUOlTRgl6O5"
      },
      "source": [
        "# **BAR PLOT Akurasi Testing Decision Tree & Random Forest** "
      ]
    },
    {
      "cell_type": "code",
      "metadata": {
        "id": "5Z_cqD0akbvw",
        "colab": {
          "base_uri": "https://localhost:8080/",
          "height": 228
        },
        "outputId": "53534da2-99f6-4302-a37a-6440caa4c184"
      },
      "source": [
        " \r\n",
        "names = ['DT', 'RF'] \r\n",
        "values = [0.9905230421954646, 0.9996442307102504] \r\n",
        "f = plt.figure(figsize =(15, 3), num = 10) \r\n",
        "plt.subplot(131) \r\n",
        "plt.bar(names, values) \r\n",
        "\r\n"
      ],
      "execution_count": null,
      "outputs": [
        {
          "output_type": "execute_result",
          "data": {
            "text/plain": [
              "<BarContainer object of 2 artists>"
            ]
          },
          "metadata": {
            "tags": []
          },
          "execution_count": 73
        },
        {
          "output_type": "display_data",
          "data": {
            "image/png": "[encoded data removed]",
            "text/plain": [
              "<Figure size 1080x216 with 1 Axes>"
            ]
          },
          "metadata": {
            "tags": [],
            "needs_background": "light"
          }
        }
      ]
    },
    {
      "cell_type": "markdown",
      "metadata": {
        "id": "X45Px2a5hn0N"
      },
      "source": [
        "# **BAR PLOT TRAINING TIME Decision Tree & Random Forest**"
      ]
    },
    {
      "cell_type": "code",
      "metadata": {
        "colab": {
          "base_uri": "https://localhost:8080/",
          "height": 228
        },
        "id": "wIC-ypzNfyRx",
        "outputId": "ea010acf-7ba4-4d36-c847-756a06a43ff2"
      },
      "source": [
        "names = ['DT', 'RF'] \r\n",
        "values = [1.268632173538208, 9.466190576553345] \r\n",
        "f = plt.figure(figsize =(15, 3), num = 10) \r\n",
        "plt.subplot(131) \r\n",
        "plt.bar(names, values)"
      ],
      "execution_count": null,
      "outputs": [
        {
          "output_type": "execute_result",
          "data": {
            "text/plain": [
              "<BarContainer object of 2 artists>"
            ]
          },
          "metadata": {
            "tags": []
          },
          "execution_count": 69
        },
        {
          "output_type": "display_data",
          "data": {
            "image/png": "[encoded data removed]",
            "text/plain": [
              "<Figure size 1080x216 with 1 Axes>"
            ]
          },
          "metadata": {
            "tags": [],
            "needs_background": "light"
          }
        }
      ]
    },
    {
      "cell_type": "markdown",
      "metadata": {
        "id": "q5uam8KXhug0"
      },
      "source": [
        "# **BAR PLOT TESTING TIME Decision Tree & Random Forest**"
      ]
    },
    {
      "cell_type": "code",
      "metadata": {
        "colab": {
          "base_uri": "https://localhost:8080/",
          "height": 228
        },
        "id": "OMG3fjifgjMe",
        "outputId": "21417515-9ed9-4a29-fa35-05cf594f06bc"
      },
      "source": [
        "names = ['DT', 'RF'] \r\n",
        "values = [0.04451346397399902, 1.0527193546295166] \r\n",
        "f = plt.figure(figsize =(15, 3), num = 10) \r\n",
        "plt.subplot(131) \r\n",
        "plt.bar(names, values) \r\n",
        " "
      ],
      "execution_count": null,
      "outputs": [
        {
          "output_type": "execute_result",
          "data": {
            "text/plain": [
              "<BarContainer object of 2 artists>"
            ]
          },
          "metadata": {
            "tags": []
          },
          "execution_count": 68
        },
        {
          "output_type": "display_data",
          "data": {
            "image/png": "[encoded data removed]",
            "text/plain": [
              "<Figure size 1080x216 with 1 Axes>"
            ]
          },
          "metadata": {
            "tags": [],
            "needs_background": "light"
          }
        }
      ]
    }
  ]
}